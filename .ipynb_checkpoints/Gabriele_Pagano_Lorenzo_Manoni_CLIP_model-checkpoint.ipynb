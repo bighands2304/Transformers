{
 "cells": [
  {
   "cell_type": "code",
   "execution_count": null,
   "metadata": {},
   "outputs": [],
   "source": [
    "import os\n",
    "import tensorflow as tf\n",
    "import numpy as np\n",
    "import pandas as pd\n",
    "import random\n",
    "from tensorflow.keras.preprocessing.image import load_img\n",
    "from tensorflow.keras.preprocessing.image import img_to_array\n",
    "import matplotlib.pyplot as plt\n",
    "\n",
    "\n",
    "tfk = tf.keras\n",
    "tfkl = tf.keras.layers\n",
    "print(tf.__version__)"
   ]
  },
  {
   "cell_type": "code",
   "execution_count": null,
   "metadata": {},
   "outputs": [],
   "source": [
    "# Random seed for reproducibility\n",
    "seed = 42\n",
    "\n",
    "random.seed(seed)\n",
    "os.environ['PYTHONHASHSEED'] = str(seed)\n",
    "np.random.seed(seed)\n",
    "tf.random.set_seed(seed)\n",
    "tf.compat.v1.set_random_seed(seed)"
   ]
  },
  {
   "cell_type": "code",
   "execution_count": null,
   "metadata": {},
   "outputs": [],
   "source": [
    "# Saving the path of the data that will be used\n",
    "captions_dir = \"dataset/caption_prediction_train.csv\"\n",
    "images_dir = \"dataset/resized_train\"\n",
    "\n",
    "# Import captions file\n",
    "captions_df = pd.read_csv(captions_dir, sep='\\t')\n",
    "print(captions_df.head())"
   ]
  },
  {
   "cell_type": "code",
   "execution_count": null,
   "metadata": {},
   "outputs": [],
   "source": [
    "# Import images\n",
    "count = 0\n",
    "images = []\n",
    "# Iterate directory\n",
    "for path in os.listdir(images_dir):\n",
    "    # check if current path is a file and eventually upload it \n",
    "    if os.path.isfile(os.path.join(images_dir, path)):\n",
    "        count += 1\n",
    "        img = img_to_array(load_img(images_dir + \"/\" + path))\n",
    "        images.append(img)\n",
    "        print(\"Currently {} images have been loaded\".format(count))\n",
    "print(\"{} images have been loaded\".format(len(images)))\n",
    "X_train = np.array(images)\n",
    "print(\"The dimension of the tensor containing the images is: {}\".format(X_train.shape))"
   ]
  },
  {
   "cell_type": "code",
   "execution_count": null,
   "metadata": {},
   "outputs": [],
   "source": [
    "# Inspect the data\n",
    "num_row = 2\n",
    "num_col = 5\n",
    "fig, axes = plt.subplots(num_row, num_col, figsize=(10*num_row,2*num_col))\n",
    "for i in range(num_row*num_col):\n",
    "    ax = axes[i//num_col, i%num_col]\n",
    "    ax.imshow(X_train[np.random.choice(range(X_train.shape[0]))])\n",
    "plt.tight_layout()\n",
    "plt.show()"
   ]
  }
 ],
 "metadata": {
  "kernelspec": {
   "display_name": "Python 3 (ipykernel)",
   "language": "python",
   "name": "python3"
  },
  "language_info": {
   "codemirror_mode": {
    "name": "ipython",
    "version": 3
   },
   "file_extension": ".py",
   "mimetype": "text/x-python",
   "name": "python",
   "nbconvert_exporter": "python",
   "pygments_lexer": "ipython3",
   "version": "3.9.13"
  }
 },
 "nbformat": 4,
 "nbformat_minor": 4
}
